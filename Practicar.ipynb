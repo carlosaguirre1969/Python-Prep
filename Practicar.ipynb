{
  "nbformat": 4,
  "nbformat_minor": 0,
  "metadata": {
    "colab": {
      "provenance": [],
      "authorship_tag": "ABX9TyNYuzAj0x25oVGwlKu5cWPC",
      "include_colab_link": true
    },
    "kernelspec": {
      "name": "python3",
      "display_name": "Python 3"
    },
    "language_info": {
      "name": "python"
    }
  },
  "cells": [
    {
      "cell_type": "markdown",
      "metadata": {
        "id": "view-in-github",
        "colab_type": "text"
      },
      "source": [
        "<a href=\"https://colab.research.google.com/github/carlosaguirre1969/Python-Prep/blob/main/Practicar.ipynb\" target=\"_parent\"><img src=\"https://colab.research.google.com/assets/colab-badge.svg\" alt=\"Open In Colab\"/></a>"
      ]
    },
    {
      "cell_type": "code",
      "execution_count": null,
      "metadata": {
        "colab": {
          "base_uri": "https://localhost:8080/"
        },
        "id": "w5ztTnbmOgW8",
        "outputId": "88ee4875-b077-496d-e250-9554386ae6d7"
      },
      "outputs": [
        {
          "output_type": "execute_result",
          "data": {
            "text/plain": [
              "(5, 7)"
            ]
          },
          "metadata": {},
          "execution_count": 2
        }
      ],
      "source": [
        "\n",
        "def  ordenar(num1=0,num2=0):\n",
        "    if num1<num2:\n",
        "        return num1,num2\n",
        "    else:\n",
        "        return num2,num1\n",
        "ordenar(5,7)"
      ]
    },
    {
      "cell_type": "code",
      "source": [
        "def calcular_area_rectangulo(base, altura):\n",
        "    area=base*altura\n",
        "    return area\n",
        "calcular_area_rectangulo(5,4)"
      ],
      "metadata": {
        "colab": {
          "base_uri": "https://localhost:8080/"
        },
        "id": "lEwfEfU8PTNc",
        "outputId": "a950d60b-a8b9-4b11-f9ed-c3fb44cdabf9"
      },
      "execution_count": null,
      "outputs": [
        {
          "output_type": "execute_result",
          "data": {
            "text/plain": [
              "20"
            ]
          },
          "metadata": {},
          "execution_count": 7
        }
      ]
    },
    {
      "cell_type": "code",
      "source": [
        "def saludar(nombre,saludo='hola'):\n",
        "    print(saludo,nombre)\n",
        "saludar('maria')"
      ],
      "metadata": {
        "colab": {
          "base_uri": "https://localhost:8080/"
        },
        "id": "fTAv3ij3RkO5",
        "outputId": "1b22bba4-00f8-46df-b7ff-c67e919fdf2d"
      },
      "execution_count": null,
      "outputs": [
        {
          "output_type": "stream",
          "name": "stdout",
          "text": [
            "hola maria\n"
          ]
        }
      ]
    },
    {
      "cell_type": "code",
      "source": [
        "saludar('juan')"
      ],
      "metadata": {
        "colab": {
          "base_uri": "https://localhost:8080/"
        },
        "id": "GNo5TodrS1P-",
        "outputId": "57781bf3-9ea5-43b9-ac82-f03fc349866b"
      },
      "execution_count": null,
      "outputs": [
        {
          "output_type": "stream",
          "name": "stdout",
          "text": [
            "hola juan\n"
          ]
        }
      ]
    },
    {
      "cell_type": "code",
      "source": [],
      "metadata": {
        "id": "V_rUO0LoS83I"
      },
      "execution_count": null,
      "outputs": []
    }
  ]
}