{
  "cells": [
    {
      "cell_type": "markdown",
      "metadata": {
        "id": "UCEB_g2Qxy_5"
      },
      "source": [
        "## Variables"
      ]
    },
    {
      "cell_type": "markdown",
      "metadata": {
        "id": "8JKbXgBExzAF"
      },
      "source": [
        "1) Crear una variable que contenga un elemento del conjunto de números enteros y luego imprimir por pantalla"
      ]
    },
    {
      "cell_type": "markdown",
      "metadata": {
        "id": "xINGLtTLxzAJ"
      },
      "source": [
        "2) Imprimir el tipo de dato de la constante 8.5"
      ]
    },
    {
      "cell_type": "code",
      "execution_count": 1,
      "metadata": {
        "id": "PyvaITcyxzAH"
      },
      "outputs": [],
      "source": [
        "N=5"
      ]
    },
    {
      "cell_type": "code",
      "execution_count": 3,
      "metadata": {
        "id": "w34ycsy4xzAL",
        "outputId": "dc0b065e-5c98-4374-a9dd-2c2d5d5f86b3",
        "colab": {
          "base_uri": "https://localhost:8080/"
        }
      },
      "outputs": [
        {
          "output_type": "stream",
          "name": "stdout",
          "text": [
            "5\n"
          ]
        }
      ],
      "source": [
        "print(N)"
      ]
    },
    {
      "cell_type": "markdown",
      "metadata": {
        "id": "o5h9RQ_JxzAM"
      },
      "source": [
        "3) Imprimir el tipo de dato de la variable creada en el punto 1"
      ]
    },
    {
      "cell_type": "code",
      "execution_count": 5,
      "metadata": {
        "id": "KPugC1oKxzAN",
        "outputId": "9af40d0c-4e63-4233-c402-837448ecf6bd",
        "colab": {
          "base_uri": "https://localhost:8080/"
        }
      },
      "outputs": [
        {
          "output_type": "execute_result",
          "data": {
            "text/plain": [
              "int"
            ]
          },
          "metadata": {},
          "execution_count": 5
        }
      ],
      "source": [
        "type (N)"
      ]
    },
    {
      "cell_type": "markdown",
      "metadata": {
        "id": "H5f8m8fbxzAO"
      },
      "source": [
        "4) Crear una variable que contenga tu nombre"
      ]
    },
    {
      "cell_type": "code",
      "execution_count": 7,
      "metadata": {
        "id": "b5fHAV60xzAQ"
      },
      "outputs": [],
      "source": [
        "Mi_nombre='Carlos Alberto Aguirre Moreno'"
      ]
    },
    {
      "cell_type": "markdown",
      "metadata": {
        "id": "oiSEWLDExzAQ"
      },
      "source": [
        "5) Crear una variable que contenga un número complejo"
      ]
    },
    {
      "cell_type": "code",
      "execution_count": 13,
      "metadata": {
        "id": "W-5VimwgxzAS"
      },
      "outputs": [],
      "source": [
        "a=3j"
      ]
    },
    {
      "cell_type": "markdown",
      "metadata": {
        "id": "7TnXabb7xzAT"
      },
      "source": [
        "6) Mostrar el tipo de dato de la variable crada en el punto 5"
      ]
    },
    {
      "cell_type": "code",
      "execution_count": 14,
      "metadata": {
        "id": "MunprIhcxzAU",
        "outputId": "90f7fdaa-67fb-463f-8fbc-80abace1208b",
        "colab": {
          "base_uri": "https://localhost:8080/"
        }
      },
      "outputs": [
        {
          "output_type": "execute_result",
          "data": {
            "text/plain": [
              "complex"
            ]
          },
          "metadata": {},
          "execution_count": 14
        }
      ],
      "source": [
        "type(a)"
      ]
    },
    {
      "cell_type": "markdown",
      "metadata": {
        "id": "tbJFPedTxzAU"
      },
      "source": [
        "7) Crear una variable que contenga el valor del número Pi redondeado a 4 decimales"
      ]
    },
    {
      "cell_type": "code",
      "execution_count": 19,
      "metadata": {
        "id": "6bQKFtvyxzAV",
        "outputId": "738d886c-9184-49d7-ce5c-6c970dad80b2",
        "colab": {
          "base_uri": "https://localhost:8080/",
          "height": 245
        }
      },
      "outputs": [
        {
          "output_type": "error",
          "ename": "NameError",
          "evalue": "name 'pi' is not defined",
          "traceback": [
            "\u001b[0;31m---------------------------------------------------------------------------\u001b[0m",
            "\u001b[0;31mNameError\u001b[0m                                 Traceback (most recent call last)",
            "\u001b[0;32m/tmp/ipython-input-3440806613.py\u001b[0m in \u001b[0;36m<cell line: 0>\u001b[0;34m()\u001b[0m\n\u001b[0;32m----> 1\u001b[0;31m \u001b[0mpi\u001b[0m\u001b[0;34m\u001b[0m\u001b[0;34m\u001b[0m\u001b[0m\n\u001b[0m",
            "\u001b[0;31mNameError\u001b[0m: name 'pi' is not defined"
          ]
        }
      ],
      "source": [
        "pi"
      ]
    },
    {
      "cell_type": "markdown",
      "metadata": {
        "id": "qduUEyu8xzAW"
      },
      "source": [
        "8) Crear una variable que contenga el valor 'True' y otra que contenga el valor True. ¿Se trata de lo mismo?"
      ]
    },
    {
      "cell_type": "code",
      "execution_count": 20,
      "metadata": {
        "id": "N3twKq1TxzAX"
      },
      "outputs": [],
      "source": [
        "c='True'\n",
        "d=True"
      ]
    },
    {
      "cell_type": "markdown",
      "source": [
        "No. c es una cadena y d es booleano"
      ],
      "metadata": {
        "id": "1vMCGKek16Ze"
      }
    },
    {
      "cell_type": "markdown",
      "metadata": {
        "id": "83423COixzAX"
      },
      "source": [
        "9) Imprimir el tipo de dato correspondientes a las variables creadas en el punto 8"
      ]
    },
    {
      "cell_type": "code",
      "execution_count": 23,
      "metadata": {
        "id": "5HSs6cERxzAa",
        "outputId": "5aed5315-f643-4c41-9daf-a81b2b1824a7",
        "colab": {
          "base_uri": "https://localhost:8080/"
        }
      },
      "outputs": [
        {
          "output_type": "execute_result",
          "data": {
            "text/plain": [
              "bool"
            ]
          },
          "metadata": {},
          "execution_count": 23
        }
      ],
      "source": [
        "type(d)"
      ]
    },
    {
      "cell_type": "code",
      "execution_count": 21,
      "metadata": {
        "id": "udlZieY4xzAY",
        "outputId": "ed364d28-fb16-4dd6-85e9-109b6c65a1e4",
        "colab": {
          "base_uri": "https://localhost:8080/"
        }
      },
      "outputs": [
        {
          "output_type": "execute_result",
          "data": {
            "text/plain": [
              "str"
            ]
          },
          "metadata": {},
          "execution_count": 21
        }
      ],
      "source": [
        "type(c)"
      ]
    },
    {
      "cell_type": "markdown",
      "metadata": {
        "id": "9P9M9g24xzAZ"
      },
      "source": [
        "10) Asignar a una variable, la suma de un número entero y otro decimal"
      ]
    },
    {
      "cell_type": "code",
      "source": [
        "j=8+2.5"
      ],
      "metadata": {
        "id": "NJVF9JMB2uM5"
      },
      "execution_count": 24,
      "outputs": []
    },
    {
      "cell_type": "markdown",
      "metadata": {
        "id": "dk35rY-WxzAa"
      },
      "source": [
        "11) Realizar una operación de suma de números complejos"
      ]
    },
    {
      "cell_type": "code",
      "execution_count": 25,
      "metadata": {
        "id": "P1y5KnopxzAb",
        "outputId": "652b6bf7-314d-4226-fb18-d999c45ea256",
        "colab": {
          "base_uri": "https://localhost:8080/"
        }
      },
      "outputs": [
        {
          "output_type": "execute_result",
          "data": {
            "text/plain": [
              "11j"
            ]
          },
          "metadata": {},
          "execution_count": 25
        }
      ],
      "source": [
        "3j+8j"
      ]
    },
    {
      "cell_type": "markdown",
      "metadata": {
        "id": "UqQdUrP5xzAb"
      },
      "source": [
        "12) Realizar una operación de suma de un número real y otro complejo"
      ]
    },
    {
      "cell_type": "code",
      "execution_count": 26,
      "metadata": {
        "id": "KZzLCYBJxzAc",
        "outputId": "e4b84cf4-eb74-4a0d-a1c3-87eaf7fd05e3",
        "colab": {
          "base_uri": "https://localhost:8080/"
        }
      },
      "outputs": [
        {
          "output_type": "execute_result",
          "data": {
            "text/plain": [
              "(9.2+4j)"
            ]
          },
          "metadata": {},
          "execution_count": 26
        }
      ],
      "source": [
        "9.2+4j"
      ]
    },
    {
      "cell_type": "markdown",
      "metadata": {
        "id": "jGJkmp6zxzAc"
      },
      "source": [
        "13) Realizar una operación de multiplicación"
      ]
    },
    {
      "cell_type": "code",
      "execution_count": 27,
      "metadata": {
        "id": "HAGurL0zxzAc",
        "outputId": "b5ad27b5-67d5-443d-a004-60baf37f7df7",
        "colab": {
          "base_uri": "https://localhost:8080/"
        }
      },
      "outputs": [
        {
          "output_type": "execute_result",
          "data": {
            "text/plain": [
              "20"
            ]
          },
          "metadata": {},
          "execution_count": 27
        }
      ],
      "source": [
        "5*4"
      ]
    },
    {
      "cell_type": "markdown",
      "metadata": {
        "id": "SV0lISefxzAc"
      },
      "source": [
        "14) Mostrar el resultado de elevar 2 a la octava potencia"
      ]
    },
    {
      "cell_type": "code",
      "execution_count": 28,
      "metadata": {
        "id": "hdej5BX7xzAd",
        "outputId": "6a31ad9c-c9aa-4746-e19f-d1e368d2ea5f",
        "colab": {
          "base_uri": "https://localhost:8080/"
        }
      },
      "outputs": [
        {
          "output_type": "execute_result",
          "data": {
            "text/plain": [
              "256"
            ]
          },
          "metadata": {},
          "execution_count": 28
        }
      ],
      "source": [
        "2**8"
      ]
    },
    {
      "cell_type": "markdown",
      "metadata": {
        "id": "Aox5V5grxzAd"
      },
      "source": [
        "15) Obtener el cociente de la división de 27 entre 4 en una variable y luego mostrarla"
      ]
    },
    {
      "cell_type": "code",
      "execution_count": 29,
      "metadata": {
        "id": "3b3utKf0xzAe"
      },
      "outputs": [],
      "source": [
        "k=27/4"
      ]
    },
    {
      "cell_type": "code",
      "source": [
        "print(k)"
      ],
      "metadata": {
        "id": "Uo17c0Bu3cL3",
        "outputId": "359f9bc1-1871-452a-ffb0-2840bc7836aa",
        "colab": {
          "base_uri": "https://localhost:8080/"
        }
      },
      "execution_count": 31,
      "outputs": [
        {
          "output_type": "stream",
          "name": "stdout",
          "text": [
            "6.75\n"
          ]
        }
      ]
    },
    {
      "cell_type": "markdown",
      "metadata": {
        "id": "hfc05lBVxzAe"
      },
      "source": [
        "16) De la división anterior solamente mostrar la parte entera"
      ]
    },
    {
      "cell_type": "code",
      "execution_count": 33,
      "metadata": {
        "id": "cqV78_6LxzAf",
        "outputId": "07f08ba4-66fe-403a-e065-eac1859d0d14",
        "colab": {
          "base_uri": "https://localhost:8080/"
        }
      },
      "outputs": [
        {
          "output_type": "execute_result",
          "data": {
            "text/plain": [
              "6"
            ]
          },
          "metadata": {},
          "execution_count": 33
        }
      ],
      "source": [
        "27//4"
      ]
    },
    {
      "cell_type": "markdown",
      "metadata": {
        "id": "-fKCs9wqxzAf"
      },
      "source": [
        "17) De la división de 27 entre 4 mostrar solamente el resto"
      ]
    },
    {
      "cell_type": "code",
      "execution_count": 34,
      "metadata": {
        "id": "W9Hx7Z9txzAf",
        "outputId": "49d87060-621f-4958-e553-6c4bd0279063",
        "colab": {
          "base_uri": "https://localhost:8080/"
        }
      },
      "outputs": [
        {
          "output_type": "execute_result",
          "data": {
            "text/plain": [
              "3"
            ]
          },
          "metadata": {},
          "execution_count": 34
        }
      ],
      "source": [
        "27%4"
      ]
    },
    {
      "cell_type": "markdown",
      "metadata": {
        "id": "HhqxxLLHxzAg"
      },
      "source": [
        "18) Utilizando como operandos el número 4 y los resultados obtenidos en los puntos 16 y 17. Obtener 27 como resultado"
      ]
    },
    {
      "cell_type": "code",
      "execution_count": null,
      "metadata": {
        "id": "CqsKE87CxzAg"
      },
      "outputs": [],
      "source": []
    },
    {
      "cell_type": "markdown",
      "metadata": {
        "id": "tnIq98FaxzAg"
      },
      "source": [
        "19) Utilizar el operador \"+\" en una operación donde intervengan solo variables alfanuméricas"
      ]
    },
    {
      "cell_type": "code",
      "execution_count": null,
      "metadata": {
        "id": "8g1_AB5bxzAh"
      },
      "outputs": [],
      "source": []
    },
    {
      "cell_type": "markdown",
      "metadata": {
        "id": "kwm2YhHnxzAr"
      },
      "source": [
        "20) Evaluar si \"2\" es igual a 2. ¿Por qué ocurre eso?"
      ]
    },
    {
      "cell_type": "code",
      "execution_count": null,
      "metadata": {
        "id": "zdfgW9oRxzAs"
      },
      "outputs": [],
      "source": []
    },
    {
      "cell_type": "markdown",
      "metadata": {
        "id": "7sdzLeLIxzAt"
      },
      "source": [
        "21) Utilizar las funciones de cambio de tipo de dato, para que la validación del punto 20 resulte verdadera"
      ]
    },
    {
      "cell_type": "code",
      "execution_count": null,
      "metadata": {
        "id": "VuB5qAqTxzAt"
      },
      "outputs": [],
      "source": []
    },
    {
      "cell_type": "markdown",
      "metadata": {
        "id": "-0c1AS5AxzAu"
      },
      "source": [
        "22) ¿Por qué arroja error el siguiente cambio de tipo de datos? a = float('3,8')"
      ]
    },
    {
      "cell_type": "code",
      "execution_count": null,
      "metadata": {
        "id": "3tios5_TxzAv"
      },
      "outputs": [],
      "source": []
    },
    {
      "cell_type": "markdown",
      "metadata": {
        "id": "W9UqTfGaxzAv"
      },
      "source": [
        "23) Crear una variable con el valor 3, y utilizar el operador '-=' para modificar su contenido y que de como resultado 2."
      ]
    },
    {
      "cell_type": "code",
      "execution_count": null,
      "metadata": {
        "id": "PfhtN-nUxzAw"
      },
      "outputs": [],
      "source": []
    },
    {
      "cell_type": "markdown",
      "metadata": {
        "id": "i2KIhgXXxzAx"
      },
      "source": [
        "24) Realizar la operacion 1 << 2 ¿Por qué da ese resultado? ¿Qué es el sistema de numeración binario?"
      ]
    },
    {
      "cell_type": "code",
      "execution_count": null,
      "metadata": {
        "id": "8xb_SroWxzAx"
      },
      "outputs": [],
      "source": []
    },
    {
      "cell_type": "markdown",
      "metadata": {
        "id": "XZzmFIs7xzAx"
      },
      "source": [
        "25) Realizar la operación 2 + '2' ¿Por qué no está permitido? ¿Si los dos operandos serían del mismo tipo, siempre arrojaría el mismo resultado?"
      ]
    },
    {
      "cell_type": "code",
      "execution_count": null,
      "metadata": {
        "id": "sAK5IKPHxzAy"
      },
      "outputs": [],
      "source": []
    },
    {
      "cell_type": "markdown",
      "metadata": {
        "id": "QhEQAaGHxzAy"
      },
      "source": [
        "26) Realizar una operación válida entre valores de tipo entero y string"
      ]
    },
    {
      "cell_type": "code",
      "execution_count": null,
      "metadata": {
        "id": "6Jdr9qhRxzAz"
      },
      "outputs": [],
      "source": []
    }
  ],
  "metadata": {
    "interpreter": {
      "hash": "c85384e4cb51c8b72350f3a8712cc8351fdc3955e32a27f9b60c6242ab125f01"
    },
    "kernelspec": {
      "display_name": "Python 3 (ipykernel)",
      "language": "python",
      "name": "python3"
    },
    "language_info": {
      "codemirror_mode": {
        "name": "ipython",
        "version": 3
      },
      "file_extension": ".py",
      "mimetype": "text/x-python",
      "name": "python",
      "nbconvert_exporter": "python",
      "pygments_lexer": "ipython3",
      "version": "3.10.11"
    },
    "colab": {
      "provenance": []
    }
  },
  "nbformat": 4,
  "nbformat_minor": 0
}