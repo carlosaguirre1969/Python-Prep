{
  "cells": [
    {
      "cell_type": "markdown",
      "metadata": {
        "id": "YgNeRHzsZooy"
      },
      "source": [
        "## Funciones"
      ]
    },
    {
      "cell_type": "markdown",
      "metadata": {
        "id": "TJCEUML4Zoo2"
      },
      "source": [
        "1) Crear una función que reciba un número como parámetro y devuelva True si es primo y False si no lo es"
      ]
    },
    {
      "cell_type": "code",
      "execution_count": null,
      "metadata": {
        "id": "js4k-GqOZoo4"
      },
      "outputs": [],
      "source": []
    },
    {
      "cell_type": "markdown",
      "metadata": {
        "id": "j-VVQbH9Zoo5"
      },
      "source": [
        "2) Utilizando la función del punto 1, realizar otra función que reciba de parámetro una lista de números y devuelva sólo aquellos que son primos en otra lista"
      ]
    },
    {
      "cell_type": "code",
      "execution_count": null,
      "metadata": {
        "id": "RdJwdmr2Zoo6"
      },
      "outputs": [],
      "source": []
    },
    {
      "cell_type": "markdown",
      "metadata": {
        "id": "BXVsf-5rZoo6"
      },
      "source": [
        "3) Crear una función que al recibir una lista de números, devuelva el que más se repite y cuántas veces lo hace. Si hay más de un \"más repetido\", que devuelva cualquiera"
      ]
    },
    {
      "cell_type": "code",
      "execution_count": 1,
      "metadata": {
        "id": "XKWNpYm7Zoo7",
        "outputId": "fd3e1739-dcf2-4a3a-d6b1-4bbf41e4655f",
        "colab": {
          "base_uri": "https://localhost:8080/"
        }
      },
      "outputs": [
        {
          "output_type": "stream",
          "name": "stdout",
          "text": [
            "el numero más repetido es 3 y está 4 veces\n"
          ]
        }
      ],
      "source": [
        "def mas_repetido(numeros):\n",
        "     repet=0\n",
        "     for i in range (len(numeros)):\n",
        "             k=numeros.count(numeros[i])\n",
        "             if k>repet:\n",
        "                  rep=numeros[i]\n",
        "                  repet=k\n",
        "     return rep, repet\n",
        "repetido,repeticiones=(mas_repetido([2,1,2,3,3,3,5,3]))\n",
        "print(f'el numero más repetido es {repetido} y está { repeticiones} veces')"
      ]
    },
    {
      "cell_type": "markdown",
      "metadata": {
        "id": "4AAkNxLjZoo8"
      },
      "source": [
        "4) Crear una función que convierta entre grados Celsius, Farenheit y Kelvin<br>\n",
        "Fórmula 1\t: (°C × 9/5) + 32 = °F<br>\n",
        "Fórmula 2\t: °C + 273.15 = °K<br>\n",
        "Debe recibir 3 parámetros: el valor, la medida de orígen y la medida de destino\n"
      ]
    },
    {
      "cell_type": "code",
      "execution_count": null,
      "metadata": {
        "id": "JIx1G3FbZoo9"
      },
      "outputs": [],
      "source": []
    },
    {
      "cell_type": "markdown",
      "metadata": {
        "id": "zTvei60pZoo-"
      },
      "source": [
        "5) Iterando una lista con los tres valores posibles de temperatura que recibe la función del punto 5, hacer un print para cada combinación de los mismos:"
      ]
    },
    {
      "cell_type": "code",
      "execution_count": null,
      "metadata": {
        "id": "h5v4Fvm5Zoo_"
      },
      "outputs": [],
      "source": []
    },
    {
      "cell_type": "markdown",
      "metadata": {
        "id": "WyZkblIsZopA"
      },
      "source": [
        "6) Armar una función que devuelva el factorial de un número. Tener en cuenta que el usuario puede equivocarse y enviar de parámetro un número no entero o negativo"
      ]
    },
    {
      "cell_type": "code",
      "execution_count": null,
      "metadata": {
        "id": "AHubx680ZopA"
      },
      "outputs": [],
      "source": []
    }
  ],
  "metadata": {
    "interpreter": {
      "hash": "c85384e4cb51c8b72350f3a8712cc8351fdc3955e32a27f9b60c6242ab125f01"
    },
    "kernelspec": {
      "display_name": "Python 3 (ipykernel)",
      "language": "python",
      "name": "python3"
    },
    "language_info": {
      "codemirror_mode": {
        "name": "ipython",
        "version": 3
      },
      "file_extension": ".py",
      "mimetype": "text/x-python",
      "name": "python",
      "nbconvert_exporter": "python",
      "pygments_lexer": "ipython3",
      "version": "3.9.7"
    },
    "colab": {
      "provenance": []
    }
  },
  "nbformat": 4,
  "nbformat_minor": 0
}